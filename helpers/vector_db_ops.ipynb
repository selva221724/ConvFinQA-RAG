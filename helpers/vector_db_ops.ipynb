{
 "cells": [
  {
   "cell_type": "code",
   "execution_count": 11,
   "metadata": {},
   "outputs": [
    {
     "name": "stdout",
     "output_type": "stream",
     "text": [
      "Successfully cleared all vectors from index: convfinqa\n"
     ]
    }
   ],
   "source": [
    "import os\n",
    "from pinecone import Pinecone\n",
    "\n",
    "# Load API key from environment variables\n",
    "api_key = os.getenv('PINECONE_API_KEY')\n",
    "\n",
    "# Initialize Pinecone client\n",
    "pc = Pinecone(api_key=api_key)\n",
    "index_name = \"convfinqa\"\n",
    "\n",
    "# Get the index\n",
    "index = pc.Index(index_name)\n",
    "\n",
    "# Clear all vectors from the index\n",
    "try:\n",
    "    index.delete(delete_all=True)\n",
    "    print(f\"Successfully cleared all vectors from index: {index_name}\")\n",
    "except Exception as e:\n",
    "    print(f\"Error clearing index: {e}\")\n"
   ]
  },
  {
   "cell_type": "code",
   "execution_count": null,
   "metadata": {},
   "outputs": [],
   "source": []
  }
 ],
 "metadata": {
  "kernelspec": {
   "display_name": ".venv",
   "language": "python",
   "name": "python3"
  },
  "language_info": {
   "codemirror_mode": {
    "name": "ipython",
    "version": 3
   },
   "file_extension": ".py",
   "mimetype": "text/x-python",
   "name": "python",
   "nbconvert_exporter": "python",
   "pygments_lexer": "ipython3",
   "version": "3.11.0"
  }
 },
 "nbformat": 4,
 "nbformat_minor": 2
}
