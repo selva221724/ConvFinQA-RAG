{
 "cells": [
  {
   "cell_type": "code",
   "execution_count": 13,
   "metadata": {},
   "outputs": [
    {
     "name": "stdout",
     "output_type": "stream",
     "text": [
      "Error clearing index: (404)\n",
      "Reason: Not Found\n",
      "HTTP response headers: HTTPHeaderDict({'Date': 'Wed, 16 Apr 2025 21:16:21 GMT', 'Content-Type': 'application/json', 'Content-Length': '55', 'Connection': 'keep-alive', 'x-pinecone-request-latency-ms': '36', 'x-pinecone-request-id': '1090057497485267590', 'x-envoy-upstream-service-time': '32', 'server': 'envoy'})\n",
      "HTTP response body: {\"code\":5,\"message\":\"Namespace not found\",\"details\":[]}\n",
      "\n"
     ]
    }
   ],
   "source": [
    "import os\n",
    "from pinecone import Pinecone\n",
    "\n",
    "# Load API key from environment variables\n",
    "api_key = os.getenv('PINECONE_API_KEY')\n",
    "\n",
    "# Initialize Pinecone client\n",
    "pc = Pinecone(api_key=api_key)\n",
    "index_name = \"convfinqa\"\n",
    "\n",
    "# Get the index\n",
    "index = pc.Index(index_name)\n",
    "\n",
    "# Clear all vectors from the index\n",
    "try:\n",
    "    index.delete(delete_all=True)\n",
    "    print(f\"Successfully cleared all vectors from index: {index_name}\")\n",
    "except Exception as e:\n",
    "    print(f\"Error clearing index: {e}\")\n"
   ]
  },
  {
   "cell_type": "code",
   "execution_count": null,
   "metadata": {},
   "outputs": [],
   "source": []
  }
 ],
 "metadata": {
  "kernelspec": {
   "display_name": ".venv",
   "language": "python",
   "name": "python3"
  },
  "language_info": {
   "codemirror_mode": {
    "name": "ipython",
    "version": 3
   },
   "file_extension": ".py",
   "mimetype": "text/x-python",
   "name": "python",
   "nbconvert_exporter": "python",
   "pygments_lexer": "ipython3",
   "version": "3.11.0"
  }
 },
 "nbformat": 4,
 "nbformat_minor": 2
}
